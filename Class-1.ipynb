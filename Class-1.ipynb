{
 "cells": [
  {
   "cell_type": "markdown",
   "metadata": {},
   "source": [
    "# Introduction"
   ]
  },
  {
   "cell_type": "markdown",
   "metadata": {},
   "source": [
    "## Data Types"
   ]
  },
  {
   "cell_type": "raw",
   "metadata": {},
   "source": [
    "# Type 1: Strings - meaning alphabets/numbers inside quotation marks, e.g. 'water'!\n",
    "# Type 2: Integer - 1,2,3,4\n",
    "# Type 3: Float - Real numbers\n",
    "# Type 4: Categorical - Like Male/Female\n",
    "# Type 5: Datetime- Represents date/time ...  and others. "
   ]
  },
  {
   "cell_type": "markdown",
   "metadata": {},
   "source": [
    "## Methods to collect Data"
   ]
  },
  {
   "cell_type": "markdown",
   "metadata": {},
   "source": [
    "### List"
   ]
  },
  {
   "cell_type": "code",
   "execution_count": null,
   "metadata": {},
   "outputs": [],
   "source": [
    "# Data kept inside square bracket makes list \n",
    "l=[]\n",
    "print (l)\n",
    "print (type(l))"
   ]
  },
  {
   "cell_type": "code",
   "execution_count": null,
   "metadata": {},
   "outputs": [],
   "source": [
    "# l is not same as L in Python!\n",
    "L=[1,2,3,4,5,6,7]\n",
    "#Check items\n",
    "L[0],L[1],L[5],L[-1]\n",
    "#Append \n",
    "L.append(12)\n",
    "L\n",
    "#HW1: L1=[1,2] and L2=[3,4]. Create a list L3=[1,2,3,4] by combining L1 and L2."
   ]
  },
  {
   "cell_type": "code",
   "execution_count": null,
   "metadata": {},
   "outputs": [],
   "source": [
    "sum(L), max(L), min(L)"
   ]
  },
  {
   "cell_type": "code",
   "execution_count": null,
   "metadata": {},
   "outputs": [],
   "source": [
    "# List can have any data types.\n",
    "L=[1,2.0,'apple']\n",
    "type(L),type(L[2])"
   ]
  },
  {
   "cell_type": "code",
   "execution_count": null,
   "metadata": {},
   "outputs": [],
   "source": [
    "#Nested list and calling elements\n",
    "L=[[1,2],[3,4,6],['a','b']]\n",
    "L[0],L[2][1]"
   ]
  },
  {
   "cell_type": "code",
   "execution_count": null,
   "metadata": {},
   "outputs": [],
   "source": [
    "#Adding list?!\n",
    "L1=[1,2,3]; L2=[2,3,4]\n",
    "L1+L2,set(L1+L2)"
   ]
  },
  {
   "cell_type": "code",
   "execution_count": null,
   "metadata": {},
   "outputs": [],
   "source": [
    "#HW2: Use for loop to add list L1 and L2. We will see for loop later in the class."
   ]
  },
  {
   "cell_type": "raw",
   "metadata": {},
   "source": [
    "So adding list is problematic. Is there an easy way to do it? \n",
    "Yes, we create array rather than list.\n",
    "To create array we need to import a module called numpy (short for numerical Python)!\n",
    "In python, there are thousands of modules. Loading them all at a time consumes a lot of memory.\n",
    "So we only load it when we need it!\n"
   ]
  },
  {
   "cell_type": "code",
   "execution_count": null,
   "metadata": {},
   "outputs": [],
   "source": [
    "import numpy as np\n",
    "L1=np.array([1,2,3]); L2=np.array([2,4,6])\n",
    "L1+L2,L1*L2"
   ]
  },
  {
   "cell_type": "code",
   "execution_count": null,
   "metadata": {},
   "outputs": [],
   "source": [
    "# We will do some more numpy operations later!"
   ]
  },
  {
   "cell_type": "markdown",
   "metadata": {},
   "source": [
    "### Tuples"
   ]
  },
  {
   "cell_type": "code",
   "execution_count": null,
   "metadata": {},
   "outputs": [],
   "source": [
    "#Used to create a 'list' that can not be modified later.\n",
    "#Is generally used to store value of constants!\n",
    "t=(1,2,3)\n",
    "#locate items\n",
    "t, type(t),t[1]"
   ]
  },
  {
   "cell_type": "markdown",
   "metadata": {},
   "source": [
    "### Dictionary"
   ]
  },
  {
   "cell_type": "code",
   "execution_count": null,
   "metadata": {},
   "outputs": [],
   "source": [
    "# A dictionary contains word and meaning. \n",
    "#Similary python dictionary has Key, Value Pair. \n",
    "D={'fruit':'apple',\n",
    "  'veg':'carrrot',\n",
    "  'rice':2.0}"
   ]
  },
  {
   "cell_type": "code",
   "execution_count": null,
   "metadata": {},
   "outputs": [],
   "source": [
    "#Print keys and values separately\n",
    "D.keys(),D.values()"
   ]
  },
  {
   "cell_type": "code",
   "execution_count": null,
   "metadata": {},
   "outputs": [],
   "source": [
    "D['fruit']"
   ]
  },
  {
   "cell_type": "code",
   "execution_count": null,
   "metadata": {},
   "outputs": [],
   "source": [
    "#Like append in list, dictionary uses update.\n",
    "#The entry should have key,value pair. \n",
    "D.update({'milk':5})\n",
    "D"
   ]
  },
  {
   "cell_type": "code",
   "execution_count": null,
   "metadata": {},
   "outputs": [],
   "source": [
    "#Adding dictionaries\n",
    "E ={'add':'this'}\n",
    "D.update(E)\n",
    "D"
   ]
  },
  {
   "cell_type": "markdown",
   "metadata": {},
   "source": [
    "## For, While and If Loops"
   ]
  },
  {
   "cell_type": "code",
   "execution_count": null,
   "metadata": {},
   "outputs": [],
   "source": [
    "L"
   ]
  },
  {
   "cell_type": "code",
   "execution_count": null,
   "metadata": {},
   "outputs": [],
   "source": [
    "#Iterate over items in a list\n",
    "for item in L:\n",
    "    print (item)"
   ]
  },
  {
   "cell_type": "code",
   "execution_count": null,
   "metadata": {},
   "outputs": [],
   "source": [
    "#Use for loop to append values to a list\n",
    "M=[]\n",
    "for i in range(10):\n",
    "    print (3*i)\n",
    "    M.append(i)\n",
    "#range(start,stop,step)"
   ]
  },
  {
   "cell_type": "code",
   "execution_count": null,
   "metadata": {},
   "outputs": [],
   "source": [
    "M"
   ]
  },
  {
   "cell_type": "code",
   "execution_count": null,
   "metadata": {},
   "outputs": [],
   "source": [
    "#HW3: y=Sin(x). Create a for loop where x varies from 0 to 360 degree,\n",
    "# and store value of y into a list.\n",
    "#Hint: Sine function has to be called using numpy. Make sure your answer is correct i.e. it gives sin90=1.\n",
    "#If you get something else, try to find out what is happening. "
   ]
  },
  {
   "cell_type": "code",
   "execution_count": null,
   "metadata": {},
   "outputs": [],
   "source": [
    "#Nested for loop:\n",
    "D={}\n",
    "for i in range(5):\n",
    "    for j in range (5):\n",
    "        if i==j:\n",
    "            print (i,'equals',j)\n",
    "            D.update({(i,j):i+j})\n",
    "        else:\n",
    "            print (i,'not equal to',j)\n",
    "            D.update({(i,j):100*i+j})"
   ]
  },
  {
   "cell_type": "code",
   "execution_count": null,
   "metadata": {},
   "outputs": [],
   "source": [
    "D"
   ]
  },
  {
   "cell_type": "code",
   "execution_count": null,
   "metadata": {},
   "outputs": [],
   "source": [
    "#zipping\n",
    "for i,j in zip(range(5),range(5)):\n",
    "    print (i,j)"
   ]
  },
  {
   "cell_type": "code",
   "execution_count": null,
   "metadata": {},
   "outputs": [],
   "source": [
    "#while loop\n",
    "i=0\n",
    "while i<5:\n",
    "    print (i, 'th turn')\n",
    "    i=i+1"
   ]
  },
  {
   "cell_type": "code",
   "execution_count": null,
   "metadata": {},
   "outputs": [],
   "source": [
    "#HW4: Use for loop that will take this list [10,56,87,99,30,80] as input outputs the equivalent grade.\n",
    "# >90=A, so on and so forth. \n"
   ]
  },
  {
   "cell_type": "code",
   "execution_count": null,
   "metadata": {},
   "outputs": [],
   "source": [
    "#Random numbers\n",
    "import random\n",
    "DD={}\n",
    "for item in [1,2,3,4,5]:\n",
    "    DD.update({item:[random.uniform(0,1) for k in range(3)]})"
   ]
  },
  {
   "cell_type": "code",
   "execution_count": null,
   "metadata": {},
   "outputs": [],
   "source": [
    "DD"
   ]
  },
  {
   "cell_type": "code",
   "execution_count": null,
   "metadata": {},
   "outputs": [],
   "source": [
    "#HW5: Create a dictionary like above but with random integer between 1 and 5000. "
   ]
  },
  {
   "cell_type": "code",
   "execution_count": null,
   "metadata": {},
   "outputs": [],
   "source": [
    "#looping inside a dictionary\n",
    "for key,value in DD.items():\n",
    "    print (key,value)"
   ]
  },
  {
   "cell_type": "markdown",
   "metadata": {},
   "source": [
    "# Plotting using Matplotlib"
   ]
  },
  {
   "cell_type": "code",
   "execution_count": null,
   "metadata": {},
   "outputs": [],
   "source": [
    "#Let's use numerical list from above\n",
    "L1,L2"
   ]
  },
  {
   "cell_type": "code",
   "execution_count": null,
   "metadata": {},
   "outputs": [],
   "source": [
    "import matplotlib.pyplot as plt\n",
    "%matplotlib inline\n",
    "plt.plot(L1,L2)\n",
    "plt.title('Test')\n",
    "plt.xlabel('L1')\n",
    "plt.ylabel('L2')\n",
    "plt.show()"
   ]
  },
  {
   "cell_type": "code",
   "execution_count": null,
   "metadata": {},
   "outputs": [],
   "source": [
    "# Let me add one more list and plot\n",
    "L3=np.array([3,7,9])"
   ]
  },
  {
   "cell_type": "code",
   "execution_count": null,
   "metadata": {},
   "outputs": [],
   "source": [
    "plt.figure(figsize=[10,6])\n",
    "plt.plot(L1,L2,color='green', marker='o', linestyle='dashed',\n",
    "         linewidth=2, markersize=12, label=\"L2\")\n",
    "plt.plot(L1,L3,label='L3')\n",
    "plt.title('Test')\n",
    "plt.xlabel('L1')\n",
    "plt.ylabel('Values')\n",
    "plt.legend(fontsize=20)\n",
    "plt.show()"
   ]
  },
  {
   "cell_type": "markdown",
   "metadata": {},
   "source": [
    "HW6: \n",
    "\n",
    "List of angles = [5,10,15,20,25,30,35,40,45] \n",
    "\n",
    "Create a for loop to go through these angles to\n",
    "\n",
    "(i) determine the range of a projectile fired from 5m above the ground with a speed of 30 m/sec. Save this as a list [angle,range] for all values of angles. \n",
    "\n",
    "(ii) determine maximum height reached. Save it as a dictionary of format {angle:height}\n",
    "\n",
    "(iii) Create a plot of angle vs Range\n",
    "\n",
    "(iv) Create a plot of angle vs Max. height reached\n"
   ]
  },
  {
   "cell_type": "markdown",
   "metadata": {},
   "source": [
    "## Multiplots Using Matplotlib"
   ]
  },
  {
   "cell_type": "code",
   "execution_count": null,
   "metadata": {},
   "outputs": [],
   "source": [
    "plt.figure(figsize=[10,6])\n",
    "plt.subplot(2,2,1)\n",
    "plt.plot(L1,L2)\n",
    "plt.title('Test1')\n",
    "plt.xlabel('L1')\n",
    "plt.ylabel('L2')\n",
    "plt.subplot(2,2,2)\n",
    "plt.plot(L1,L2)\n",
    "plt.title('Test2')\n",
    "plt.xlabel('L1')\n",
    "plt.ylabel('L2')\n",
    "plt.subplot(2,2,3)\n",
    "plt.plot(L1,L2)\n",
    "plt.title('Test3')\n",
    "plt.xlabel('L1')\n",
    "plt.ylabel('L2')\n",
    "plt.subplot(2,2,4)\n",
    "plt.plot(L1,L2)\n",
    "plt.title('Test4')\n",
    "plt.xlabel('L1')\n",
    "plt.ylabel('L2')\n",
    "#plt.tight_layout()\n",
    "plt.show()"
   ]
  },
  {
   "cell_type": "code",
   "execution_count": null,
   "metadata": {},
   "outputs": [],
   "source": [
    "#HW7 x=[1,2,3,4,5], y1=3x^2-log(x),y2=2^x-5x\n",
    "# Create a Dual axis plot. Meaning: Single plot with common x-axis but y1 and y2 on left and right. \n",
    "# You might need to google a bit on how to plot dual axis plots in matplotlib. "
   ]
  }
 ],
 "metadata": {
  "kernelspec": {
   "display_name": "Python 3",
   "language": "python",
   "name": "python3"
  },
  "language_info": {
   "codemirror_mode": {
    "name": "ipython",
    "version": 3
   },
   "file_extension": ".py",
   "mimetype": "text/x-python",
   "name": "python",
   "nbconvert_exporter": "python",
   "pygments_lexer": "ipython3",
   "version": "3.7.6"
  }
 },
 "nbformat": 4,
 "nbformat_minor": 4
}
